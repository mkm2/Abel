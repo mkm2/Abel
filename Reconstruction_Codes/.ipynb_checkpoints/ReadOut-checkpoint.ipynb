{
 "cells": [
  {
   "cell_type": "code",
   "execution_count": 2,
   "metadata": {},
   "outputs": [],
   "source": [
    "import numpy as np\n",
    "import matplotlib.pyplot as plt\n",
    "import scipy.io"
   ]
  },
  {
   "cell_type": "code",
   "execution_count": 3,
   "metadata": {
    "scrolled": true
   },
   "outputs": [
    {
     "name": "stderr",
     "output_type": "stream",
     "text": [
      "/home/alaska/python-virtual-environments/mainenv/lib/python3.8/site-packages/rydanalysis-0.1.0-py3.8.egg/rydanalysis/IO/old_structure.py:27: SyntaxWarning: \"is\" with a literal. Did you mean \"==\"?\n",
      "/home/alaska/python-virtual-environments/mainenv/lib/python3.8/site-packages/rydanalysis-0.1.0-py3.8.egg/rydanalysis/IO/old_structure.py:29: SyntaxWarning: \"is\" with a literal. Did you mean \"==\"?\n",
      "/home/alaska/python-virtual-environments/mainenv/lib/python3.8/site-packages/rydanalysis-0.1.0-py3.8.egg/rydanalysis/IO/old_structure.py:27: SyntaxWarning: \"is\" with a literal. Did you mean \"==\"?\n",
      "/home/alaska/python-virtual-environments/mainenv/lib/python3.8/site-packages/rydanalysis-0.1.0-py3.8.egg/rydanalysis/IO/old_structure.py:29: SyntaxWarning: \"is\" with a literal. Did you mean \"==\"?\n"
     ]
    }
   ],
   "source": [
    "import rydanalysis"
   ]
  },
  {
   "cell_type": "markdown",
   "metadata": {},
   "source": [
    "## Ground state density"
   ]
  },
  {
   "cell_type": "code",
   "execution_count": 4,
   "metadata": {},
   "outputs": [],
   "source": [
    "mat = scipy.io.loadmat('ground_state_density.mat')"
   ]
  },
  {
   "cell_type": "code",
   "execution_count": 5,
   "metadata": {},
   "outputs": [
    {
     "data": {
      "text/plain": [
       "dict_keys(['__header__', '__version__', '__globals__', 'coords', 'attrs', 'dims', 'data_vars'])"
      ]
     },
     "execution_count": 5,
     "metadata": {},
     "output_type": "execute_result"
    }
   ],
   "source": [
    "mat.keys()"
   ]
  },
  {
   "cell_type": "markdown",
   "metadata": {},
   "source": [
    "### Dims"
   ]
  },
  {
   "cell_type": "code",
   "execution_count": 6,
   "metadata": {
    "scrolled": true
   },
   "outputs": [],
   "source": [
    "xdim = mat['dims'][0][0][1][0][0]\n",
    "ydim = mat['dims'][0][0][2][0][0]\n",
    "MWdim = mat['dims'][0][0][0][0][0]\n",
    "#First and second indices (len 1) unnecessary\n",
    "#Third index (len 3): 0 == MWDuration, 1 == x, 2 == y\n",
    "#Fourth and fifth indices (len 1) unnecessary"
   ]
  },
  {
   "cell_type": "markdown",
   "metadata": {},
   "source": [
    "### Coords"
   ]
  },
  {
   "cell_type": "code",
   "execution_count": 7,
   "metadata": {},
   "outputs": [],
   "source": [
    "xcoords = mat['coords'][0][0][0][0][0][2][0]\n",
    "ycoords = mat['coords'][0][0][1][0][0][2][0]\n",
    "MWDuration = mat['coords'][0][0][2][0][0][2][0]\n",
    "#First and second indices (len 1) unnecessary\n",
    "#Third index (len 3): 0 == x, 1 == y, 2 == MWDuration\n",
    "#Fourth and fifth indices (len 1) unnecessary\n",
    "#Sixth index (len 3): 0 == 'y' (dim), 1 == [None] (attrs), 2 == [-1091.4,...,1091.4] (data)\n",
    "#Seventh index (len 1) unnecessary"
   ]
  },
  {
   "cell_type": "markdown",
   "metadata": {},
   "source": [
    "### Data_vars"
   ]
  },
  {
   "cell_type": "code",
   "execution_count": 8,
   "metadata": {},
   "outputs": [
    {
     "data": {
      "text/plain": [
       "dtype([('average_density', 'O'), ('std_density', 'O'), ('sem_density', 'O')])"
      ]
     },
     "execution_count": 8,
     "metadata": {},
     "output_type": "execute_result"
    }
   ],
   "source": [
    "mat['data_vars'].dtype"
   ]
  },
  {
   "cell_type": "code",
   "execution_count": 9,
   "metadata": {},
   "outputs": [],
   "source": [
    "data = mat['data_vars'][0][0][0+0][0][0][2]\n",
    "#First and second indices (len 1) unnecessary\n",
    "#Third index (len 3): data, mask\n",
    "#Fourth and fifth indices (len 1) unnecessary\n",
    "#Sixth index (len 3): 0 == dims array, 1 == [None] (attrs), 2 == data as (2,50,256)"
   ]
  },
  {
   "cell_type": "code",
   "execution_count": 10,
   "metadata": {},
   "outputs": [
    {
     "data": {
      "text/plain": [
       "<matplotlib.colorbar.Colorbar at 0x7f24829f7130>"
      ]
     },
     "execution_count": 10,
     "metadata": {},
     "output_type": "execute_result"
    },
    {
     "data": {
      "image/png": "[encoded data removed]",
      "text/plain": [
       "<Figure size 432x288 with 2 Axes>"
      ]
     },
     "metadata": {
      "needs_background": "light"
     },
     "output_type": "display_data"
    }
   ],
   "source": [
    "plt.imshow(data[1])\n",
    "plt.colorbar()"
   ]
  },
  {
   "cell_type": "markdown",
   "metadata": {},
   "source": [
    "## Rydberg"
   ]
  },
  {
   "cell_type": "code",
   "execution_count": 11,
   "metadata": {},
   "outputs": [],
   "source": [
    "mat = scipy.io.loadmat('rydberg_summary.mat')"
   ]
  },
  {
   "cell_type": "code",
   "execution_count": 12,
   "metadata": {},
   "outputs": [
    {
     "data": {
      "text/plain": [
       "dict_keys(['__header__', '__version__', '__globals__', 'coords', 'attrs', 'dims', 'data_vars'])"
      ]
     },
     "execution_count": 12,
     "metadata": {},
     "output_type": "execute_result"
    }
   ],
   "source": [
    "mat.keys()"
   ]
  },
  {
   "cell_type": "markdown",
   "metadata": {},
   "source": [
    "### Dims"
   ]
  },
  {
   "cell_type": "code",
   "execution_count": 13,
   "metadata": {},
   "outputs": [],
   "source": [
    "xdim = mat['dims'][0][0][2][0][0]\n",
    "ydim = mat['dims'][0][0][3][0][0]\n",
    "MWdim = mat['dims'][0][0][0][0][0]\n",
    "tEXCdim = mat['dims'][0][0][1][0][0]\n",
    "#First and second indices (len 1) unnecessary\n",
    "#Third index (len 3): 0 == MWDuration, 1 == x, 2 == y\n",
    "#Fourth and fifth indices (len 1) unnecessary"
   ]
  },
  {
   "cell_type": "markdown",
   "metadata": {},
   "source": [
    "### Coords"
   ]
  },
  {
   "cell_type": "code",
   "execution_count": 14,
   "metadata": {},
   "outputs": [],
   "source": [
    "#xcoords = mat['coords'][0][0][0][0][0][2][0]\n",
    "#ycoords = mat['coords'][0][0][1][0][0][2][0]\n",
    "MWDuration = mat['coords'][0][0][0+0][0][0][2][0]\n",
    "xcoords = mat['coords'][0][0][0+1][0][0][2][0]\n",
    "ycoords = mat['coords'][0][0][0+2][0][0][2][0]\n",
    "tEXCcoords = mat['coords'][0][0][0+3][0][0][2][0]\n",
    "#First and second indices (len 1) unnecessary\n",
    "#Third index (len 3): 0 == MWDuration, 1 == x, 2 == y, 3 == tEXC, 4?? seems empty??\n",
    "#Fourth and fifth indices (len 1) unnecessary\n",
    "#Sixth index (len 3): 0 == (dim), 1 == [None] (attrs), 2 == [....] (data)\n",
    "#Seventh index (len 1) unnecessary"
   ]
  },
  {
   "cell_type": "markdown",
   "metadata": {},
   "source": [
    "### Data_vars"
   ]
  },
  {
   "cell_type": "code",
   "execution_count": 18,
   "metadata": {},
   "outputs": [
    {
     "data": {
      "text/plain": [
       "(2, 21, 50, 256)"
      ]
     },
     "execution_count": 18,
     "metadata": {},
     "output_type": "execute_result"
    }
   ],
   "source": [
    "data = mat['data_vars'][0][0][0+0][0][0][2]\n",
    "data.shape\n",
    "#First and second indices (len 1) unnecessary\n",
    "#Third index (len 6): I don't know\n",
    "#Fourth and fifth indices (len 1) unnecessary\n",
    "#Sixth index (len 4): 0 == dims array, 1 == [None] (attrs), 2 == data as (2,50,256)"
   ]
  },
  {
   "cell_type": "code",
   "execution_count": 19,
   "metadata": {},
   "outputs": [
    {
     "data": {
      "text/plain": [
       "dtype([('rydberg_density', 'O'), ('rydberg_density_std', 'O'), ('rydberg_density_sem', 'O'), ('rydberg_fraction', 'O'), ('rydberg_fraction_err', 'O'), ('ions', 'O')])"
      ]
     },
     "execution_count": 19,
     "metadata": {},
     "output_type": "execute_result"
    }
   ],
   "source": [
    "mat['data_vars'].dtype"
   ]
  },
  {
   "cell_type": "code",
   "execution_count": 27,
   "metadata": {},
   "outputs": [
    {
     "data": {
      "text/plain": [
       "<matplotlib.colorbar.Colorbar at 0x7f248068a1c0>"
      ]
     },
     "execution_count": 27,
     "metadata": {},
     "output_type": "execute_result"
    },
    {
     "data": {
      "image/png": "[encoded data removed]",
      "text/plain": [
       "<Figure size 432x288 with 2 Axes>"
      ]
     },
     "metadata": {
      "needs_background": "light"
     },
     "output_type": "display_data"
    }
   ],
   "source": [
    "plt.imshow(data[0,10,5:-5,10:200])\n",
    "plt.colorbar()"
   ]
  },
  {
   "cell_type": "code",
   "execution_count": 271,
   "metadata": {},
   "outputs": [
    {
     "data": {
      "text/plain": [
       "(array(['MWduration', 'tEXC      '], dtype='<U10'), array([[None]], dtype=object), array([[  0.60927152,  26.91390728,  53.7615894 ,  69.17880795,\n",
       "         74.52980132,  75.67549669,  72.13245033,  71.42384106,\n",
       "         71.        ,  75.05298013,  77.8807947 ,  80.39072848,\n",
       "         79.57615894,  82.52317881,  82.43708609,  84.36423841,\n",
       "         86.10596026,  85.61589404,  87.8013245 ,  88.21192053,\n",
       "         89.37748344],\n",
       "       [  0.60927152,  69.23178808, 121.35099338, 144.35099338,\n",
       "        150.66887417, 150.53642384, 152.18543046, 154.89403974,\n",
       "        154.7615894 , 158.39735099, 159.50993377, 160.45033113,\n",
       "        164.11258278, 165.29139073, 167.34437086, 168.31788079,\n",
       "        166.88741722, 169.09271523, 170.28476821, 170.50331126,\n",
       "        171.22516556]]))"
      ]
     },
     "execution_count": 271,
     "metadata": {},
     "output_type": "execute_result"
    }
   ],
   "source": [
    "mat['data_vars'][0][0][5][0][0] #What is this?"
   ]
  }
 ],
 "metadata": {
  "kernelspec": {
   "display_name": "Python 3.6.9 64-bit ('mainenv': venv)",
   "language": "python",
   "name": "python36964bitmainenvvenvebaceb3e8faa4a559b686316b58b1457"
  },
  "language_info": {
   "codemirror_mode": {
    "name": "ipython",
    "version": 3
   },
   "file_extension": ".py",
   "mimetype": "text/x-python",
   "name": "python",
   "nbconvert_exporter": "python",
   "pygments_lexer": "ipython3",
   "version": "3.8.10"
  }
 },
 "nbformat": 4,
 "nbformat_minor": 4
}
